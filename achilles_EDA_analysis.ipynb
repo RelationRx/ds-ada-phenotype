{
 "cells": [
  {
   "cell_type": "code",
   "execution_count": 10,
   "id": "0e2b1a07-09c1-418b-aabc-732823e0cefa",
   "metadata": {},
   "outputs": [],
   "source": [
    "import numpy as np\n",
    "import pandas as pd\n",
    "import os.path as osp\n",
    "import matplotlib.pyplot as plt\n",
    "from itertools import combinations as comb\n",
    "from scipy.stats import spearmanr as spearman\n",
    "\n",
    "from tools.data_loading import get_achilles_screen"
   ]
  },
  {
   "cell_type": "markdown",
   "id": "fe422963",
   "metadata": {},
   "source": [
    "## Data Loading"
   ]
  },
  {
   "cell_type": "code",
   "execution_count": 9,
   "id": "2c77f7d7",
   "metadata": {},
   "outputs": [
    {
     "name": "stdout",
     "output_type": "stream",
     "text": [
      "Pulling folder parsed/literature_datasets/achilles\n",
      "Pulling folder parsed/literature_datasets/achilles\n"
     ]
    }
   ],
   "source": [
    "df = get_achilles_screen()\n",
    "moi = np.array([len(item.split(\"|\")) for item in df.index])\n",
    "df = df[moi == 1]"
   ]
  },
  {
   "cell_type": "markdown",
   "id": "cf315d02",
   "metadata": {},
   "source": [
    "## Checking consistency of KO effects across cell lines\n",
    "A potential issue is that the learning task which we're trying is in a sense too easy. This would happen, for example, if the effects of KOs across cell lines were too consistent. For example if a given KO is always within the top 10 KOs ranked by effect size then this wouldn't require the ML system to learn anything about an underlying dependency graph between KOs/cell lines to make accurate predictions.\n",
    "\n",
    "To take an initial look, let's calculate the average Spearman R correlation across cell line pairs:"
   ]
  },
  {
   "cell_type": "code",
   "execution_count": 12,
   "id": "f1ef154f",
   "metadata": {},
   "outputs": [],
   "source": [
    "spearman_corrs = []\n",
    "for cline_combo in comb(df.columns, 2):\n",
    "    spearman_corrs.append(spearman(df[cline_combo[0]],df[cline_combo[1]])[0])"
   ]
  },
  {
   "cell_type": "code",
   "execution_count": null,
   "id": "a0a20877",
   "metadata": {},
   "outputs": [],
   "source": []
  }
 ],
 "metadata": {
  "interpreter": {
   "hash": "159e417f18a8b95b34df43df6fa417019e49a22bd715a52816ca05a79ef42d4c"
  },
  "kernelspec": {
   "display_name": "Python 3.7.11 ('mageckenv')",
   "language": "python",
   "name": "python3"
  },
  "language_info": {
   "codemirror_mode": {
    "name": "ipython",
    "version": 3
   },
   "file_extension": ".py",
   "mimetype": "text/x-python",
   "name": "python",
   "nbconvert_exporter": "python",
   "pygments_lexer": "ipython3",
   "version": "3.7.11"
  }
 },
 "nbformat": 4,
 "nbformat_minor": 5
}
